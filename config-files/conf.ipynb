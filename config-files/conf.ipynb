{
 "cells": [
  {
   "cell_type": "code",
   "execution_count": 1,
   "metadata": {},
   "outputs": [],
   "source": [
    "import yaml\n",
    "\n",
    "\n",
    "\n"
   ]
  },
  {
   "cell_type": "code",
   "execution_count": 5,
   "metadata": {},
   "outputs": [],
   "source": [
    "\n",
    "def conf_to_yaml(conf_filepath, yaml_filepath):\n",
    "\t\"\"\"\n",
    "\tConverts a .conf file to a .yaml file.\n",
    "\n",
    "\tParameters:\n",
    "\tconf_filepath (str): The path to the input .conf file.\n",
    "\tyaml_filepath (str): The path where the output .yaml file should be saved.\n",
    "\t\"\"\"\n",
    "\tconfig_dict = {}\n",
    "\twith open(conf_filepath, 'r') as conf_file:\n",
    "\t\tfor line in conf_file:\n",
    "\t\t\tline = line.strip()\n",
    "\t\t\tif line and not line.startswith('#'):  # Skip empty lines and comments\n",
    "\t\t\t\tkey, value = line.split('=', 1)\n",
    "\t\t\t\tconfig_dict[key.strip()] = value.strip()\n",
    "\twith open(yaml_filepath, 'w') as yaml_file:\n",
    "\t\tyaml.dump(config_dict, yaml_file, default_flow_style=False)\n",
    "\n",
    "# Example usage\n",
    "\n",
    "\n"
   ]
  },
  {
   "cell_type": "code",
   "execution_count": 7,
   "metadata": {},
   "outputs": [
    {
     "name": "stdout",
     "output_type": "stream",
     "text": [
      "user nginx:\n",
      "worker_processes  1:\n",
      "events:\n",
      "  worker_connections  1024:\n",
      "http:\n",
      "  include       mime.types:\n",
      "  default_type  application/octet-stream:\n",
      "  sendfile      on:\n",
      "  tcp_nopush    on:\n",
      "  keepalive_timeout 10:\n",
      "  gzip          on:\n",
      "  server:\n",
      "    server_name  localhost:\n",
      "    charset      utf-8:\n",
      "    access_log   /var/log/nginx/access.log:\n",
      "    root    /var/www:\n",
      "    location = /:\n",
      "      rewrite ^ /home redirect:\n",
      "    location /:\n",
      "      ssi on:\n",
      "      set $inc $request_uri:\n",
      "      if (!-f $request_filename):\n",
      "        rewrite ^ /index.html last:\n",
      "      if (!-f $document_root$inc.html):\n",
      "        return 404:\n"
     ]
    }
   ],
   "source": [
    "import re\n",
    "\n",
    "def conf_to_yaml2(conf_filename):\n",
    "    indent_level = 0\n",
    "    yaml_lines = []\n",
    "\n",
    "    def add_line(line):\n",
    "        yaml_lines.append('  ' * indent_level + line)\n",
    "\n",
    "    with open(conf_filename, 'r') as conf_file:\n",
    "        for line in conf_file:\n",
    "            stripped_line = line.strip()\n",
    "            if stripped_line.startswith('#') or not stripped_line:\n",
    "                continue  # Skip comments and blank lines\n",
    "            \n",
    "            # Match opening and closing braces\n",
    "            if '{' in stripped_line:\n",
    "                # Entering a new block\n",
    "                key = stripped_line.split('{')[0].strip()\n",
    "                add_line(f'{key}:')\n",
    "                indent_level += 1\n",
    "            elif '}' in stripped_line:\n",
    "                # Exiting a block\n",
    "                indent_level -= 1\n",
    "            else:\n",
    "                # Directive or something similar; treating it as a key with an empty value\n",
    "                directive = stripped_line.split(';')[0].strip()\n",
    "                add_line(f'{directive}:')\n",
    "\n",
    "    return '\\n'.join(yaml_lines)\n",
    "\n",
    "# This is how you'd call the function; you'll need to ensure the correct file path\n",
    "yaml_content = conf_to_yaml2('sample.conf')\n",
    "print(yaml_content)\n"
   ]
  },
  {
   "cell_type": "code",
   "execution_count": 6,
   "metadata": {},
   "outputs": [
    {
     "ename": "ValueError",
     "evalue": "not enough values to unpack (expected 2, got 1)",
     "output_type": "error",
     "traceback": [
      "\u001b[0;31m---------------------------------------------------------------------------\u001b[0m",
      "\u001b[0;31mValueError\u001b[0m                                Traceback (most recent call last)",
      "Cell \u001b[0;32mIn[6], line 1\u001b[0m\n\u001b[0;32m----> 1\u001b[0m \u001b[43mconf_to_yaml\u001b[49m\u001b[43m(\u001b[49m\u001b[38;5;124;43m'\u001b[39;49m\u001b[38;5;124;43mnginx.conf\u001b[39;49m\u001b[38;5;124;43m'\u001b[39;49m\u001b[43m,\u001b[49m\u001b[43m \u001b[49m\u001b[38;5;124;43m'\u001b[39;49m\u001b[38;5;124;43mnginx_conf.yaml\u001b[39;49m\u001b[38;5;124;43m'\u001b[39;49m\u001b[43m)\u001b[49m\n",
      "Cell \u001b[0;32mIn[5], line 14\u001b[0m, in \u001b[0;36mconf_to_yaml\u001b[0;34m(conf_filepath, yaml_filepath)\u001b[0m\n\u001b[1;32m     12\u001b[0m \t\tline \u001b[38;5;241m=\u001b[39m line\u001b[38;5;241m.\u001b[39mstrip()\n\u001b[1;32m     13\u001b[0m \t\t\u001b[38;5;28;01mif\u001b[39;00m line \u001b[38;5;129;01mand\u001b[39;00m \u001b[38;5;129;01mnot\u001b[39;00m line\u001b[38;5;241m.\u001b[39mstartswith(\u001b[38;5;124m'\u001b[39m\u001b[38;5;124m#\u001b[39m\u001b[38;5;124m'\u001b[39m):  \u001b[38;5;66;03m# Skip empty lines and comments\u001b[39;00m\n\u001b[0;32m---> 14\u001b[0m \t\t\tkey, value \u001b[38;5;241m=\u001b[39m line\u001b[38;5;241m.\u001b[39msplit(\u001b[38;5;124m'\u001b[39m\u001b[38;5;124m=\u001b[39m\u001b[38;5;124m'\u001b[39m, \u001b[38;5;241m1\u001b[39m)\n\u001b[1;32m     15\u001b[0m \t\t\tconfig_dict[key\u001b[38;5;241m.\u001b[39mstrip()] \u001b[38;5;241m=\u001b[39m value\u001b[38;5;241m.\u001b[39mstrip()\n\u001b[1;32m     16\u001b[0m \u001b[38;5;28;01mwith\u001b[39;00m \u001b[38;5;28mopen\u001b[39m(yaml_filepath, \u001b[38;5;124m'\u001b[39m\u001b[38;5;124mw\u001b[39m\u001b[38;5;124m'\u001b[39m) \u001b[38;5;28;01mas\u001b[39;00m yaml_file:\n",
      "\u001b[0;31mValueError\u001b[0m: not enough values to unpack (expected 2, got 1)"
     ]
    }
   ],
   "source": [
    "conf_to_yaml2('nginx.conf', 'nginx_conf.yaml')"
   ]
  },
  {
   "cell_type": "code",
   "execution_count": 4,
   "metadata": {},
   "outputs": [
    {
     "ename": "KeyError",
     "evalue": "'user'",
     "output_type": "error",
     "traceback": [
      "\u001b[0;31m---------------------------------------------------------------------------\u001b[0m",
      "\u001b[0;31mKeyError\u001b[0m                                  Traceback (most recent call last)",
      "Cell \u001b[0;32mIn[4], line 72\u001b[0m\n\u001b[1;32m     38\u001b[0m \u001b[38;5;66;03m# Example usage\u001b[39;00m\n\u001b[1;32m     39\u001b[0m conf_text \u001b[38;5;241m=\u001b[39m \u001b[38;5;124m\"\"\"\u001b[39m\n\u001b[1;32m     40\u001b[0m \u001b[38;5;124muser nobody; # a directive in the \u001b[39m\u001b[38;5;124m'\u001b[39m\u001b[38;5;124mmain\u001b[39m\u001b[38;5;124m'\u001b[39m\u001b[38;5;124m context\u001b[39m\n\u001b[1;32m     41\u001b[0m \n\u001b[0;32m   (...)\u001b[0m\n\u001b[1;32m     69\u001b[0m \u001b[38;5;124m}\u001b[39m\n\u001b[1;32m     70\u001b[0m \u001b[38;5;124m\"\"\"\u001b[39m\n\u001b[0;32m---> 72\u001b[0m parsed_conf \u001b[38;5;241m=\u001b[39m \u001b[43mparse_nginx_conf\u001b[49m\u001b[43m(\u001b[49m\u001b[43mconf_text\u001b[49m\u001b[43m)\u001b[49m\n\u001b[1;32m     73\u001b[0m \u001b[38;5;28mprint\u001b[39m(parsed_conf)\n",
      "Cell \u001b[0;32mIn[4], line 33\u001b[0m, in \u001b[0;36mparse_nginx_conf\u001b[0;34m(conf_text)\u001b[0m\n\u001b[1;32m     31\u001b[0m         key \u001b[38;5;241m=\u001b[39m parts[\u001b[38;5;241m0\u001b[39m]\n\u001b[1;32m     32\u001b[0m         value \u001b[38;5;241m=\u001b[39m \u001b[38;5;124m'\u001b[39m\u001b[38;5;124m \u001b[39m\u001b[38;5;124m'\u001b[39m\u001b[38;5;241m.\u001b[39mjoin(parts[\u001b[38;5;241m1\u001b[39m:])\n\u001b[0;32m---> 33\u001b[0m         \u001b[43mstack\u001b[49m\u001b[43m[\u001b[49m\u001b[38;5;241;43m-\u001b[39;49m\u001b[38;5;241;43m1\u001b[39;49m\u001b[43m]\u001b[49m\u001b[43m[\u001b[49m\u001b[43mkey\u001b[49m\u001b[43m]\u001b[49m\u001b[38;5;241m.\u001b[39mappend(value)\n\u001b[1;32m     35\u001b[0m \u001b[38;5;66;03m# The root of the parsed structure\u001b[39;00m\n\u001b[1;32m     36\u001b[0m \u001b[38;5;28;01mreturn\u001b[39;00m stack[\u001b[38;5;241m0\u001b[39m]\n",
      "\u001b[0;31mKeyError\u001b[0m: 'user'"
     ]
    }
   ],
   "source": [
    "import re\n",
    "from collections import defaultdict\n",
    "\n",
    "def parse_nginx_conf(conf_text):\n",
    "\t# Prepare a stack to track block nesting\n",
    "\tstack = [{}]\n",
    "\t# Split the text into lines and iterate over them\n",
    "\tfor line in conf_text.split('\\n'):\n",
    "\t\tline = line.strip()\n",
    "\t\tif not line or line.startswith(\"#\"):\n",
    "\t\t\t# Skip empty lines and comments\n",
    "\t\t\tcontinue\n",
    "\t\t\n",
    "\t\t# Check for block start, e.g., 'http {' or 'server {'\n",
    "\t\tblock_start = re.match(r'(\\w+)\\s*{', line)\n",
    "\t\t# Check for block end, a single '}'\n",
    "\t\tblock_end = re.match(r'}', line)\n",
    "\t\t\n",
    "\t\tif block_start:\n",
    "\t\t\tblock_name = block_start.group(1)\n",
    "\t\t\t# Create a new block dictionary and push it onto the stack\n",
    "\t\t\tnew_block = defaultdict(list)\n",
    "\t\t\tstack[-1][block_name].append(new_block)\n",
    "\t\t\tstack.append(new_block)\n",
    "\t\telif block_end:\n",
    "\t\t\t# Pop the current block from the stack as it ends\n",
    "\t\t\tstack.pop()\n",
    "\t\telse:\n",
    "\t\t\t# Regular line, attempt to split it into key-value pairs\n",
    "\t\t\tparts = line.split()\n",
    "\t\t\tkey = parts[0]\n",
    "\t\t\tvalue = ' '.join(parts[1:])\n",
    "\t\t\tstack[-1][key].append(value)\n",
    "\t\n",
    "\t# The root of the parsed structure\n",
    "\treturn stack[0]\n",
    "\n",
    "# Example usage\n",
    "conf_text = \"\"\"\n",
    "user nobody; # a directive in the 'main' context\n",
    "\n",
    "events {\n",
    "\t# configuration of connection processing\n",
    "}\n",
    "\n",
    "http {\n",
    "\t# Configuration specific to HTTP and affecting all virtual servers\n",
    "\n",
    "\tserver {\n",
    "\t\t# configuration of HTTP virtual server 1\n",
    "\t\tlocation /one {\n",
    "\t\t\t# configuration for processing URIs starting with '/one'\n",
    "\t\t}\n",
    "\t\tlocation /two {\n",
    "\t\t\t# configuration for processing URIs starting with '/two'\n",
    "\t\t}\n",
    "\t}\n",
    "\n",
    "\tserver {\n",
    "\t\t# configuration of HTTP virtual server 2\n",
    "\t}\n",
    "}\n",
    "\n",
    "stream {\n",
    "\t# Configuration specific to TCP/UDP and affecting all virtual servers\n",
    "\tserver {\n",
    "\t\t# configuration of TCP virtual server 1\n",
    "\t}\n",
    "}\n",
    "\"\"\"\n",
    "\n",
    "parsed_conf = parse_nginx_conf(conf_text)\n",
    "print(parsed_conf)\n"
   ]
  }
 ],
 "metadata": {
  "kernelspec": {
   "display_name": "Python 3",
   "language": "python",
   "name": "python3"
  },
  "language_info": {
   "codemirror_mode": {
    "name": "ipython",
    "version": 3
   },
   "file_extension": ".py",
   "mimetype": "text/x-python",
   "name": "python",
   "nbconvert_exporter": "python",
   "pygments_lexer": "ipython3",
   "version": "3.11.3"
  }
 },
 "nbformat": 4,
 "nbformat_minor": 2
}
